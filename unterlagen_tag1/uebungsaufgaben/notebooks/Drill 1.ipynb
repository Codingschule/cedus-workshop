{
 "cells": [
  {
   "cell_type": "markdown",
   "metadata": {},
   "source": [
    "# Aufgabe 1: Hello World polyglot!\n",
    "\n",
    "Zum Warmmachen: Schreibt ein Programm, dass \"Hello World\" in zwei verschiedenen Sprachen ausgibt!\n"
   ]
  },
  {
   "cell_type": "code",
   "execution_count": null,
   "metadata": {},
   "outputs": [],
   "source": []
  },
  {
   "cell_type": "markdown",
   "metadata": {},
   "source": [
    "# Aufgabe 2: Potenzieren\n",
    "\n",
    "Schreibt ein Programm, dass 2 Zahlen vom Benutzer per `input()` entgegennimmt.\n",
    "Das Programm soll anschließend die Potenz $a^b$ bilden.\n",
    "\n",
    "**ACHTUNG**: input() gibt immer einen String als Ergebnis zurück, auch wenn der Benutzer \"nur\" eine Zahl eingibt (Gibt der Benutzer zB. 17 ein gibt input \"17\" zurück. Um diese \"Textzahl\" in eine Zahl zu verwandeln könnt ihr die built-in-Funktion `int()` wie folgt benutzt "
   ]
  },
  {
   "cell_type": "code",
   "execution_count": null,
   "metadata": {},
   "outputs": [],
   "source": [
    "zahl = int(input(\"Bitte gib eine Zahl ein:\"))"
   ]
  },
  {
   "cell_type": "markdown",
   "metadata": {},
   "source": [
    "Tipp: 2 Zahlen lassen sich wie folgt quadrieren"
   ]
  },
  {
   "cell_type": "code",
   "execution_count": null,
   "metadata": {},
   "outputs": [],
   "source": [
    "print(5**3) # 5^3"
   ]
  },
  {
   "cell_type": "code",
   "execution_count": null,
   "metadata": {},
   "outputs": [],
   "source": []
  },
  {
   "cell_type": "markdown",
   "metadata": {},
   "source": [
    "\n",
    "# Aufgabe 3: Was bin ich?\n",
    "\n",
    "Viele Fehler beim Programmieren entstehen, wenn Datentypen missachtet werden. Programme können nur sauber arbeiten, wenn die Daten \"wie erwartet\" sind.\n",
    "\n",
    "Schaut euch bspw. folgende Codezeile an:"
   ]
  },
  {
   "cell_type": "code",
   "execution_count": 2,
   "metadata": {},
   "outputs": [
    {
     "ename": "TypeError",
     "evalue": "must be str, not int",
     "output_type": "error",
     "traceback": [
      "\u001b[1;31m---------------------------------------------------------------------------\u001b[0m",
      "\u001b[1;31mTypeError\u001b[0m                                 Traceback (most recent call last)",
      "\u001b[1;32m<ipython-input-2-ff38c48b7dd8>\u001b[0m in \u001b[0;36m<module>\u001b[1;34m()\u001b[0m\n\u001b[1;32m----> 1\u001b[1;33m \u001b[0mprint\u001b[0m\u001b[1;33m(\u001b[0m\u001b[1;34m\"Hallo\"\u001b[0m \u001b[1;33m+\u001b[0m \u001b[1;36m2\u001b[0m\u001b[1;33m)\u001b[0m\u001b[1;33m\u001b[0m\u001b[0m\n\u001b[0m",
      "\u001b[1;31mTypeError\u001b[0m: must be str, not int"
     ]
    }
   ],
   "source": [
    "print(\"Hallo\" + 2)"
   ]
  },
  {
   "cell_type": "markdown",
   "metadata": {},
   "source": [
    "Python meldet hier einen Fehler (TypeError: must be str, not int). Wir versuche einen Text mit einer Zahl zu addieren, Python kann allerdings nur 2 Zahlen ODER 2 Texte miteinander addieren und quittiert daher seinen Dienst mit einer Fehlermeldung.\n",
    "\n",
    "Mit einer kleinen Korrektur können wir den Fehler beheben:"
   ]
  },
  {
   "cell_type": "code",
   "execution_count": null,
   "metadata": {},
   "outputs": [],
   "source": [
    "print(\"Hallo\" + \"2\")"
   ]
  },
  {
   "cell_type": "markdown",
   "metadata": {},
   "source": [
    "Um solche Fehler leichter zu identifizieren, kann die built-in-Funktion `type()` helfen. `type()` gibt den Datentyp einer Variable oder eines Ausdrucks zurück.\n",
    "\n",
    "Schaut euch folgende Codezeilen an und versucht zunächst zu erraten, welchen Datentyp Python ausgibt. Überprüft eure Vermutung anschließend indem ihr die Codezeilen ausführt."
   ]
  },
  {
   "cell_type": "code",
   "execution_count": null,
   "metadata": {},
   "outputs": [],
   "source": [
    "print(type(5))"
   ]
  },
  {
   "cell_type": "code",
   "execution_count": null,
   "metadata": {},
   "outputs": [],
   "source": [
    "a = 5+5\n",
    "print(type(a))"
   ]
  },
  {
   "cell_type": "code",
   "execution_count": null,
   "metadata": {},
   "outputs": [],
   "source": [
    "b = 5 + 5.0\n",
    "print(type(b))"
   ]
  },
  {
   "cell_type": "code",
   "execution_count": null,
   "metadata": {},
   "outputs": [],
   "source": [
    "d = 5 // 2\n",
    "print(type(d))"
   ]
  },
  {
   "cell_type": "code",
   "execution_count": null,
   "metadata": {},
   "outputs": [],
   "source": [
    "e = 5.0 // 2\n",
    "print(type(e))"
   ]
  },
  {
   "cell_type": "code",
   "execution_count": null,
   "metadata": {},
   "outputs": [],
   "source": [
    "print(type(\"Hallo\"))"
   ]
  },
  {
   "cell_type": "code",
   "execution_count": null,
   "metadata": {},
   "outputs": [],
   "source": [
    "f = \"17\" + \"12\"\n",
    "print(type(f))"
   ]
  },
  {
   "cell_type": "code",
   "execution_count": null,
   "metadata": {},
   "outputs": [],
   "source": [
    "g = 5 < 6\n",
    "print(type(g))"
   ]
  }
 ],
 "metadata": {
  "kernelspec": {
   "display_name": "Python 3",
   "language": "python",
   "name": "python3"
  },
  "language_info": {
   "codemirror_mode": {
    "name": "ipython",
    "version": 3
   },
   "file_extension": ".py",
   "mimetype": "text/x-python",
   "name": "python",
   "nbconvert_exporter": "python",
   "pygments_lexer": "ipython3",
   "version": "3.6.1"
  }
 },
 "nbformat": 4,
 "nbformat_minor": 2
}
