{
 "cells": [
  {
   "cell_type": "markdown",
   "metadata": {},
   "source": [
    "# Aufgabe 1: Hello World, Hello World, ...\n",
    "\n",
    "Schreibt ein Programm, dass 10x Hello World ausgibt - benutzt hierfür einmal eine `for`-schleife...\n"
   ]
  },
  {
   "cell_type": "code",
   "execution_count": null,
   "metadata": {},
   "outputs": [],
   "source": [
    "for _ in _:"
   ]
  },
  {
   "cell_type": "markdown",
   "metadata": {},
   "source": [
    "und einmal eine `while`-Schleife"
   ]
  },
  {
   "cell_type": "code",
   "execution_count": null,
   "metadata": {},
   "outputs": [],
   "source": [
    "while _ < _:\n"
   ]
  },
  {
   "cell_type": "markdown",
   "metadata": {},
   "source": [
    "# Aufgabe 2: Nur unter einer Bedingung...\n",
    "\n",
    "Neben den klassischen Rechenoperatoren (`+` , `-` , `*`, `/`) bringt Python noch zwei \"besondere\" Operatoren mit (`//`, `%`)\n",
    "\n",
    "`a//b` macht eine Ganzzahldivision. Wie bei der Division in der Grundschule wird geschaut, \"wie oft b in a passt\".\n",
    "\n",
    "So ist etwa 5 : 2 = 2 Rest 2 , daher ergibt 5 // 2 == 2, da die 2 zwei Mal in die 5 passt.\n",
    "\n",
    "`a%b` ist hingegen der sogenannte Modulo-Operator und gibt den **Rest** einer Division aus. 5 % 2 = 1, da 5 : 2 = 2 **Rest 1**\n",
    "\n",
    "Wir können den Modulooperator nutzen um zu testen ob eine Zahl eine andere Zahl teilt.\n",
    "\n",
    "Folgender Code prüft etwa, ob eine Zahl gerade ist, indem geschaut wird ob die Zahl restlos durch 2 dividiert werden kann."
   ]
  },
  {
   "cell_type": "code",
   "execution_count": null,
   "metadata": {},
   "outputs": [],
   "source": [
    "zahl = int(input(\"Gib eine Zahl ein: \"))\n",
    "\n",
    "if zahl % 2 == 0:\n",
    "    print(\"Deine Zahl ist gerade!\")\n",
    "else:\n",
    "    print(\"Deine Zahl ist ungerade!\")"
   ]
  },
  {
   "cell_type": "markdown",
   "metadata": {},
   "source": [
    "Nutzt obigen Code als Orientierung und vervollständigt folgendes Programm so, dass es alle Zahlen bis 1000 ausgibt, die durch 6 teilbar sind."
   ]
  },
  {
   "cell_type": "code",
   "execution_count": null,
   "metadata": {},
   "outputs": [],
   "source": [
    "for _ in _ :\n",
    "    if _"
   ]
  },
  {
   "cell_type": "markdown",
   "metadata": {},
   "source": [
    "# Aufgabe 3: Aufgabe 1. in Besser.\n",
    "\n",
    "Funktionen dienen dazu, Programmteile wiederverwendbar zu machen - dies geschieht dadurch dass man konkrete Use-Cases zu einem allgemeineren Use-Case zusammenfasst.\n",
    "\n",
    "a) Statt dem konkreten Fall \"Gib Hello World 10x aus\" wäre es doch viel eleganter, wenn wir sagen könnten \"Gib einen beliebigen Text 10x aus\"\n",
    "\n",
    "Vervollständigt die Funktion `printtexttentimes()` so, dass sie einen beliebigen Text 10x ausgibt."
   ]
  },
  {
   "cell_type": "code",
   "execution_count": null,
   "metadata": {},
   "outputs": [],
   "source": [
    "def printtexttentimes(text):\n",
    "    "
   ]
  },
  {
   "cell_type": "markdown",
   "metadata": {},
   "source": [
    "Noch eleganter wäre es , wenn wir nicht nur den Text, sondern auch die Anzahl frei wählen könnten.\n",
    "\n",
    "Vervollständigt die Funktion `printtextXtimes()` so, dass sie einen beliebigen Text beliebig oft ausgibt."
   ]
  },
  {
   "cell_type": "code",
   "execution_count": null,
   "metadata": {},
   "outputs": [],
   "source": [
    "def printtextXtimes(text, count):\n",
    "    \n",
    "        \n"
   ]
  }
 ],
 "metadata": {
  "kernelspec": {
   "display_name": "Python 3",
   "language": "python",
   "name": "python3"
  },
  "language_info": {
   "codemirror_mode": {
    "name": "ipython",
    "version": 3
   },
   "file_extension": ".py",
   "mimetype": "text/x-python",
   "name": "python",
   "nbconvert_exporter": "python",
   "pygments_lexer": "ipython3",
   "version": "3.6.1"
  }
 },
 "nbformat": 4,
 "nbformat_minor": 2
}
