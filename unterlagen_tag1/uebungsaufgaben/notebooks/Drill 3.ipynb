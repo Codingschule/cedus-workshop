{
 "cells": [
  {
   "cell_type": "markdown",
   "metadata": {},
   "source": [
    "# Aufgabe 1: Alles rund um Listen\n",
    "\n",
    "a) Erstellt eine Liste `fruits` mit 10 verschiedenen Früchten und gebt sie aus"
   ]
  },
  {
   "cell_type": "code",
   "execution_count": 1,
   "metadata": {},
   "outputs": [
    {
     "name": "stdout",
     "output_type": "stream",
     "text": [
      "[1, 2, 3, 4]\n"
     ]
    }
   ],
   "source": [
    "fruits ="
   ]
  },
  {
   "cell_type": "markdown",
   "metadata": {},
   "source": [
    "b) Lasst euch die Liste mithilfe einer Funktion sortieren und gebt sie anschließend wieder aus (Tipp: fruits. , anschließend die Tab-Taste drücken um sich alle verfügbaren Funktionen anzeigen zu lassen"
   ]
  },
  {
   "cell_type": "code",
   "execution_count": null,
   "metadata": {},
   "outputs": [],
   "source": [
    "fruits."
   ]
  },
  {
   "cell_type": "markdown",
   "metadata": {},
   "source": [
    "c) nutzt Slicing um euch die ...\n",
    " - die erste\n",
    " - die letzte\n",
    " - die ersten 3\n",
    " - die zweite bis fünfte\n",
    " - die letzten 4\n",
    " - alle Früchte an geraden Plätzen (zweite, vierte, sechste, usw.)\n",
    "\n",
    "ausgeben zu lassen"
   ]
  },
  {
   "cell_type": "code",
   "execution_count": null,
   "metadata": {},
   "outputs": [],
   "source": []
  },
  {
   "cell_type": "markdown",
   "metadata": {},
   "source": [
    "# Aufgabe 2: Strings\n",
    "\n",
    "Schaut euch folgenden \"Hipster ipsum\" Text an"
   ]
  },
  {
   "cell_type": "code",
   "execution_count": 2,
   "metadata": {},
   "outputs": [],
   "source": [
    "hipster_ipsum_text = \"\"\"Stumptown tumblr swag vice. Glossier food truck cardigan, \n",
    "meditation DIY vegan skateboard distillery ennui activated charcoal pok pok narwhal.\n",
    "Umami yr shaman pinterest post-ironic. Live-edge next level poutine cronut.\n",
    "Bicycle rights godard jianbing pug fanny pack organic everyday carry tattooed master cleanse. \n",
    "Paleo pitchfork ugh yuccie jianbing skateboard XOXO bespoke locavore tilde art party hot chicken adaptogen \n",
    "vaporware.\"\"\""
   ]
  },
  {
   "cell_type": "markdown",
   "metadata": {},
   "source": [
    "a) Lasst euch den Text mit einer passenden Funktion rückwärts ausgeben."
   ]
  },
  {
   "cell_type": "code",
   "execution_count": null,
   "metadata": {},
   "outputs": [],
   "source": [
    "hipster_ipsum_text."
   ]
  },
  {
   "cell_type": "markdown",
   "metadata": {},
   "source": [
    "b) Findet mithilfe einer passenden Funktion heraus, wieviele y in dem Text vorkommen (Tipp: was heißt \"zählen\" auf Englisch?)"
   ]
  },
  {
   "cell_type": "code",
   "execution_count": null,
   "metadata": {},
   "outputs": [],
   "source": [
    "hipster_ipsum_text."
   ]
  },
  {
   "cell_type": "markdown",
   "metadata": {},
   "source": [
    "Mithilfe der built-in-Funktion len() lässt sich bestimmen wie lang eine Liste/String ist. Bei einem String wird zeichenweise (wie bei einer SMS) gezählt, bei einer Liste die Anzahl der Elemente."
   ]
  },
  {
   "cell_type": "code",
   "execution_count": 3,
   "metadata": {},
   "outputs": [
    {
     "name": "stdout",
     "output_type": "stream",
     "text": [
      "431\n"
     ]
    }
   ],
   "source": [
    "print(len(hipster_ipsum_text))"
   ]
  },
  {
   "cell_type": "markdown",
   "metadata": {},
   "source": [
    "c) Urgh, viel zu lang für eine SMS. Nutzt Slicing um euch den Text auf 160 Zeichen kürzen zu lassen."
   ]
  },
  {
   "cell_type": "code",
   "execution_count": null,
   "metadata": {},
   "outputs": [],
   "source": []
  },
  {
   "cell_type": "markdown",
   "metadata": {},
   "source": [
    "# Aufgabe 3: Nicknames generieren\n",
    "\n",
    "Oftmals machen euch Webdienste Alternativvorschläge für euren Login, wenn euer gewünschter Name bereits vergeben ist. Tatsächlich lässt sich solch eine Funktion in Python recht einfach mithilfe von Slicing und String-Funktionen umsetzen.\n",
    "\n",
    "Schreibt eine Funktion `generate_nickname(first_name,last_name)` die euch einen Nicknamen aus eurem Vor- und Nachnamen generiert.\n",
    "\n",
    "Der Nickname soll wie folgt generiert werden:\n",
    "\n",
    "*Ersten 3 Buchstaben des Vornamens + letzten 4 Buchstaben des Nachnamens*\n",
    "\n",
    "Ruft die Funktion anschließend mit 3 verschiedenen Namen auf\n",
    "\n",
    "(zur Erinnerung: mit dem Schlüsselwort `return` könnt ihr eure Funktion einen Wert zurückgeben lassen)"
   ]
  },
  {
   "cell_type": "code",
   "execution_count": null,
   "metadata": {},
   "outputs": [],
   "source": [
    "def generate_nickname(first_name, last_name):\n",
    "    \n",
    "\n"
   ]
  },
  {
   "cell_type": "markdown",
   "metadata": {},
   "source": [
    "Bonusaufgabe: schreibt die Funktion so um, dass euer Nickname aus Vor- und Nachnamen ohne Vokale generiert wird. (Tipp: `replace()`)"
   ]
  },
  {
   "cell_type": "code",
   "execution_count": null,
   "metadata": {},
   "outputs": [],
   "source": []
  }
 ],
 "metadata": {
  "kernelspec": {
   "display_name": "Python 3",
   "language": "python",
   "name": "python3"
  },
  "language_info": {
   "codemirror_mode": {
    "name": "ipython",
    "version": 3
   },
   "file_extension": ".py",
   "mimetype": "text/x-python",
   "name": "python",
   "nbconvert_exporter": "python",
   "pygments_lexer": "ipython3",
   "version": "3.6.1"
  }
 },
 "nbformat": 4,
 "nbformat_minor": 2
}
